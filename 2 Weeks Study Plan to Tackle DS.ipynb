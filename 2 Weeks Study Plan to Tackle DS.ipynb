{
 "cells": [
  {
   "cell_type": "markdown",
   "id": "a68035fd",
   "metadata": {},
   "source": [
    "In computer science, a data structure is a way to store and organize data.\n",
    "\n",
    "During the computer programming process, identifying and using the appropriate data structure is an important task as it can improve the overall efficiency of the algorithm. In large-scale systems, choosing the most suitable data structure directly impacts the difficulty of program design and the final quality and performance."
   ]
  },
  {
   "cell_type": "markdown",
   "id": "65065f48",
   "metadata": {},
   "source": [
    "### 217. Contains Duplicate\n",
    "\n",
    "Given an integer array `nums`, return true if any value appears **at least twice** in the array, and return false if every element is distinct."
   ]
  },
  {
   "cell_type": "code",
   "execution_count": 10,
   "id": "84fa69d9",
   "metadata": {},
   "outputs": [],
   "source": [
    "class Solution:\n",
    "    def containsDuplicate(self, nums):\n",
    "        new_nums = set(nums)\n",
    "        if len(new_nums) < len(nums):\n",
    "            return True\n",
    "        else:\n",
    "            return False\n",
    "test = Solution()"
   ]
  },
  {
   "cell_type": "code",
   "execution_count": 13,
   "id": "182b5fd4",
   "metadata": {},
   "outputs": [
    {
     "data": {
      "text/plain": [
       "True"
      ]
     },
     "execution_count": 13,
     "metadata": {},
     "output_type": "execute_result"
    }
   ],
   "source": [
    "nums = [1,2,3,1]\n",
    "test.containsDuplicate(nums)"
   ]
  },
  {
   "cell_type": "code",
   "execution_count": null,
   "id": "afff278d",
   "metadata": {},
   "outputs": [],
   "source": []
  }
 ],
 "metadata": {
  "kernelspec": {
   "display_name": "Python 3",
   "language": "python",
   "name": "python3"
  },
  "language_info": {
   "codemirror_mode": {
    "name": "ipython",
    "version": 3
   },
   "file_extension": ".py",
   "mimetype": "text/x-python",
   "name": "python",
   "nbconvert_exporter": "python",
   "pygments_lexer": "ipython3",
   "version": "3.8.8"
  }
 },
 "nbformat": 4,
 "nbformat_minor": 5
}
